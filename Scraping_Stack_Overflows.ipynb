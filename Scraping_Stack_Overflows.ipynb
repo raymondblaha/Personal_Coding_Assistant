{
 "cells": [
  {
   "cell_type": "code",
   "execution_count": 2,
   "metadata": {},
   "outputs": [
    {
     "name": "stdout",
     "output_type": "stream",
     "text": [
      "Current Working Directory: /Volumes/LaCie/LLM_Stack_Overflow\n",
      "Fetching page 1666 with answers...\n",
      "Failed to retrieve data: Status code 400\n",
      "No more data found at page 1666.\n"
     ]
    }
   ],
   "source": [
    "import requests\n",
    "import time\n",
    "import json\n",
    "import os\n",
    "\n",
    "api_key = 'Replace_With_Your_API'\n",
    "site = 'stackoverflow'\n",
    "tag = 'python'\n",
    "\n",
    "def fetch_questions_with_answers(page, page_size):\n",
    "    params = {\n",
    "        'page': page,\n",
    "        'pagesize': page_size,\n",
    "        'order': 'desc',\n",
    "        'sort': 'creation',\n",
    "        'tagged': tag,\n",
    "        'site': site,\n",
    "        'filter': 'withbody',  # Include the body of the questions and answers\n",
    "        'key': api_key\n",
    "    }\n",
    "\n",
    "    url = 'https://api.stackexchange.com/2.3/questions'\n",
    "    response = requests.get(url, params=params)\n",
    "    \n",
    "    if response.status_code != 200:\n",
    "        print('Failed to retrieve data: Status code', response.status_code)\n",
    "        return None\n",
    "\n",
    "    questions = response.json().get('items', [])\n",
    "    for question in questions:\n",
    "        # Fetch answers for the question\n",
    "        answers_response = requests.get(f\"{url}/{question['question_id']}/answers\", params=params)\n",
    "        if answers_response.status_code == 200:\n",
    "            question['answers'] = answers_response.json().get('items', [])\n",
    "        else:\n",
    "            question['answers'] = []\n",
    "\n",
    "        if 'backoff' in answers_response.json():\n",
    "            time.sleep(answers_response.json()['backoff'])\n",
    "\n",
    "    return questions\n",
    "\n",
    "def save_to_file(data, filename='Replace_With_Your_Path', mode='a'):\n",
    "    # Assuming the file exists, this will open and append to it\n",
    "    with open(filename, mode) as file:\n",
    "        for item in data:\n",
    "            json.dump(item, file)\n",
    "            file.write(\"\\n\")\n",
    "\n",
    "def main():\n",
    "    print(f\"Current Working Directory: {os.getcwd()}\")\n",
    "    page = 1 # Started from page 1\n",
    "    page_size = 5  # Consider starting with a smaller page size to manage rate limits\n",
    "    \n",
    "    while True:\n",
    "        print(f\"Fetching page {page} with answers...\")\n",
    "        questions_with_answers = fetch_questions_with_answers(page, page_size)\n",
    "        if not questions_with_answers:\n",
    "            print(f\"No more data found at page {page}.\")\n",
    "            break\n",
    "        \n",
    "        print(f\"Fetched {len(questions_with_answers)} items.\")\n",
    "        save_to_file(questions_with_answers)\n",
    "        \n",
    "        page += 1\n",
    "        time.sleep(2)  # Respect the API's rate limit\n",
    "\n",
    "if __name__ == '__main__':\n",
    "    main()"
   ]
  }
 ],
 "metadata": {
  "kernelspec": {
   "display_name": "Python 3",
   "language": "python",
   "name": "python3"
  },
  "language_info": {
   "codemirror_mode": {
    "name": "ipython",
    "version": 3
   },
   "file_extension": ".py",
   "mimetype": "text/x-python",
   "name": "python",
   "nbconvert_exporter": "python",
   "pygments_lexer": "ipython3",
   "version": "3.11.3"
  }
 },
 "nbformat": 4,
 "nbformat_minor": 2
}
